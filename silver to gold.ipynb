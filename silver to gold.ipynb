{
 "cells": [
  {
   "cell_type": "markdown",
   "metadata": {
    "application/vnd.databricks.v1+cell": {
     "cellMetadata": {},
     "inputWidgets": {},
     "nuid": "1f025fac-9010-4dce-bb59-f553a7ff3f5e",
     "showTitle": false,
     "title": ""
    }
   },
   "source": [
    "##Iterations by each folder"
   ]
  },
  {
   "cell_type": "markdown",
   "metadata": {
    "application/vnd.databricks.v1+cell": {
     "cellMetadata": {},
     "inputWidgets": {},
     "nuid": "32fa7166-d98a-4eed-af9e-932f4473c826",
     "showTitle": false,
     "title": ""
    }
   },
   "source": [
    "### Getting names of tables in Silver folder"
   ]
  },
  {
   "cell_type": "code",
   "execution_count": 0,
   "metadata": {
    "application/vnd.databricks.v1+cell": {
     "cellMetadata": {
      "byteLimit": 2048000,
      "rowLimit": 10000
     },
     "inputWidgets": {},
     "nuid": "9ad0488b-974a-4ba0-9740-acb33f40a8ff",
     "showTitle": false,
     "title": ""
    }
   },
   "outputs": [
    {
     "output_type": "stream",
     "name": "stdout",
     "output_type": "stream",
     "text": [
      "['Address', 'Customer', 'CustomerAddress', 'Product', 'ProductCategory', 'ProductDescription', 'ProductModel', 'ProductModelProductDescription', 'SalesOrderDetail', 'SalesOrderHeader']\n"
     ]
    }
   ],
   "source": [
    "table_name = []\n",
    "for i in dbutils.fs.ls('mnt/silver/SalesLT/'):\n",
    "    table_name.append(i.name.split('/')[0])\n",
    "print(table_name)"
   ]
  },
  {
   "cell_type": "markdown",
   "metadata": {
    "application/vnd.databricks.v1+cell": {
     "cellMetadata": {},
     "inputWidgets": {},
     "nuid": "52bd0aaf-54d7-42fc-b0eb-1f100a617bfa",
     "showTitle": false,
     "title": ""
    }
   },
   "source": [
    "### Creating temp views of tables to execute preprocessings in SQL"
   ]
  },
  {
   "cell_type": "code",
   "execution_count": 0,
   "metadata": {
    "application/vnd.databricks.v1+cell": {
     "cellMetadata": {
      "byteLimit": 2048000,
      "rowLimit": 10000
     },
     "inputWidgets": {},
     "nuid": "13e12bf7-b551-4037-8376-45121fc15deb",
     "showTitle": false,
     "title": ""
    }
   },
   "outputs": [
    {
     "output_type": "stream",
     "name": "stdout",
     "output_type": "stream",
     "text": [
      "+---------+--------------------+------------+-----------+----------------+-------------+----------+--------------------+------------+\n|AddressID|        AddressLine1|AddressLine2|       City|   StateProvince|CountryRegion|PostalCode|             rowguid|ModifiedDate|\n+---------+--------------------+------------+-----------+----------------+-------------+----------+--------------------+------------+\n|        9|   8713 Yosemite Ct.|     unknown|    Bothell|      Washington|United States|     98011|268af621-76d7-4c7...|  2006-07-01|\n|       11| 1318 Lasalle Street|     unknown|    Bothell|      Washington|United States|     98011|981b3303-aca2-49c...|  2007-04-01|\n|       25|    9178 Jumping St.|     unknown|     Dallas|           Texas|United States|     75201|c8df3bd9-48f0-465...|  2006-09-01|\n|       28|    9228 Via Del Sol|     unknown|    Phoenix|         Arizona|United States|     85004|12ae5ee1-fc3e-468...|  2005-09-01|\n|       32|   26910 Indela Road|     unknown|   Montreal|          Quebec|       Canada|   H1Y 2H5|84a95f62-3ae8-4e7...|  2006-08-01|\n|      185|     2681 Eagle Peak|     unknown|   Bellevue|      Washington|United States|     98004|7bccf442-2268-46c...|  2006-09-01|\n|      297|     7943 Walnut Ave|     unknown|     Renton|      Washington|United States|     98055|52410da4-2778-4b1...|  2006-08-01|\n|      445|  6388 Lake City Way|     unknown|    Burnaby|British Columbia|       Canada|   V5A 3A6|53572f25-9133-4a8...|  2006-09-01|\n|      446|   52560 Free Street|     unknown|    Toronto|         Ontario|       Canada|   M4B 1V7|801a1dfc-5125-486...|  2005-08-01|\n|      447|   22580 Free Street|     unknown|    Toronto|         Ontario|       Canada|   M4B 1V7|88cee379-dbb8-433...|  2006-08-01|\n|      448|2575 Bloor Street...|     unknown|    Toronto|         Ontario|       Canada|   M4B 1V6|2df6d0ad-0926-4f3...|  2007-08-01|\n|      449|           Station E|     unknown|Chalk Riber|         Ontario|       Canada|   K0J 1J0|8b5a7729-cb75-430...|  2005-08-01|\n|      450|   575 Rue St Amable|     unknown|     Quebec|          Quebec|       Canada|       G1R|5f3c345a-6475-41d...|  2006-09-01|\n|      451|     2512-4th Ave Sw|     unknown|    Calgary|         Alberta|       Canada|   T2P 2G8|49644f1e-6f90-46d...|  2006-12-01|\n|      452|55 Lakeshore Blvd...|     unknown|    Toronto|         Ontario|       Canada|   M4B 1V6|a358652f-0e00-49e...|  2005-09-01|\n|      453|     6333 Cote Vertu|     unknown|   Montreal|          Quebec|       Canada|   H1Y 2H7|355681f2-4d9d-452...|  2007-09-01|\n|      454|3255 Front Street...|     unknown|    Toronto|         Ontario|       Canada|   M4B 1V6|ef4dc57d-8b8b-407...|  2007-08-01|\n|      455|   2550 Signet Drive|     unknown|     Weston|         Ontario|       Canada|   M9V 4W3|43d582cf-e95f-486...|  2006-08-01|\n|      456|       6777 Kingsway|     unknown|    Burnaby|British Columbia|       Canada|   V5H 3Z7|2f3b383e-08a5-407...|  2006-08-01|\n|      457| 5250-505 Burning St|     unknown|  Vancouver|British Columbia|       Canada|   V7L 4J4|93f02c61-783d-4f0...|  2006-07-01|\n+---------+--------------------+------------+-----------+----------------+-------------+----------+--------------------+------------+\nonly showing top 20 rows\n\n+----------+---------+-----+-----------+----------+----------+------+--------------------+--------------------+--------------------+-------------------+--------------------+------------+--------------------+------------+\n|CustomerID|NameStyle|Title|  FirstName|MiddleName|  LastName|Suffix|         CompanyName|         SalesPerson|        EmailAddress|              Phone|        PasswordHash|PasswordSalt|             rowguid|ModifiedDate|\n+----------+---------+-----+-----------+----------+----------+------+--------------------+--------------------+--------------------+-------------------+--------------------+------------+--------------------+------------+\n|         1|    false|  Mr.|    Orlando|        N.|       Gee|    NA|        A Bike Store|adventure-works\\p...|orlando0@adventur...|       245-555-0173|L/Rlwxzp4w7RWmEgX...|    1KjXYs4=|3f5ae95e-b87d-4ae...|  2005-08-01|\n|         2|    false|  Mr.|      Keith|        NA|    Harris|    NA|  Progressive Sports|adventure-works\\d...|keith0@adventure-...|       170-555-0127|YPdtRdvqeAhj6wyxE...|    fs1ZGhY=|e552f657-a9af-4a7...|  2006-08-01|\n|         3|    false|  Ms.|      Donna|        F.|  Carreras|    NA|Advanced Bike Com...|adventure-works\\j...|donna0@adventure-...|       279-555-0130|LNoK27abGQo48gGue...|    YTNH5Rw=|130774b1-db21-4ef...|  2005-09-01|\n|         4|    false|  Ms.|      Janet|        M.|     Gates|    NA|Modular Cycle Sys...|adventure-works\\j...|janet1@adventure-...|       710-555-0173|ElzTpSNbUW1Ut+L5c...|    nm7D5e4=|ff862851-1daa-404...|  2006-07-01|\n|         5|    false|  Mr.|       Lucy|        NA|Harrington|    NA|Metropolitan Spor...|adventure-works\\shu0|lucy0@adventure-w...|       828-555-0186|KJqV15wsX3PG8TS5G...|    cNFKU4w=|83905bdc-6f5e-4f7...|  2006-09-01|\n|         6|    false|  Ms.|   Rosmarie|        J.|   Carroll|    NA|Aerobic Exercise ...|adventure-works\\l...|rosmarie0@adventu...|       244-555-0112|OKT0scizCdIzymHHO...|    ihWf50M=|1a92df88-bfa2-467...|  2007-09-01|\n|         7|    false|  Mr.|    Dominic|        P.|      Gash|    NA|    Associated Bikes|adventure-works\\shu0|dominic0@adventur...|       192-555-0173|ZccoP/jZGQm+Xpzc7...|    sPoUBSQ=|03e9273e-b193-448...|  2006-07-01|\n|        10|    false|  Ms.|   Kathleen|        M.|     Garza|    NA|Rural Cycle Emporium|adventure-works\\j...|kathleen0@adventu...|       150-555-0127|Qa3aMCxNbVLGrc0b9...|    Ls05W3g=|cdb6698d-2ff1-4fb...|  2006-09-01|\n|        11|    false|  Ms.|  Katherine|        NA|   Harding|    NA|         Sharp Bikes|adventure-works\\j...|katherine0@advent...|       926-555-0159|uRlorVzDGNJIX9I+e...|    jpHKbqE=|750f3495-59c4-48a...|  2005-08-01|\n|        12|    false|  Mr.|     Johnny|        A.|    Caprio|   Jr.|Bikes and Motorbikes|adventure-works\\g...|johnny0@adventure...|       112-555-0191|jtF9jBoFYeJTaET7x...|    wVLnvHo=|947bcaf1-1f32-44f...|  2006-08-01|\n|        16|    false|  Mr.|Christopher|        R.|      Beck|   Jr.| Bulk Discount Store|adventure-works\\jae0|christopher1@adve...|1 (11) 500 555-0132|sKt9daCzEEKWAzivE...|    8KfYx/4=|c9381589-d31c-4ef...|  2006-09-01|\n|        18|    false|  Mr.|      David|        J.|       Liu|    NA|       Catalog Store|adventure-works\\m...|david20@adventure...|       440-555-0132|61zeTkO+eI5g8GG0s...|    c7Ttvv0=|c04d6b4d-94c6-4c5...|  2005-08-01|\n|        19|    false|  Mr.|       John|        A.|    Beaver|    NA|   Center Cycle Shop|adventure-works\\p...|john8@adventure-w...|       521-555-0195|DzbqWX7B3EK5Dub92...|    zXNgrJw=|69ae5d43-31be-4b7...|  2007-04-01|\n|        20|    false|  Ms.|       Jean|        P.|   Handley|    NA|Central Discount ...|adventure-works\\d...|jean1@adventure-w...|       582-555-0113|o1GVo3vExeNzo0/ct...|    uMsvfdo=|e010c10a-f1c3-4bb...|  2005-09-01|\n|        21|    false|   NA|    Jinghao|        NA|       Liu|    NA|Chic Department S...|adventure-works\\j...|jinghao1@adventur...|       928-555-0116|IaD5AeqK9mRiIrJi/...|    p6pOqKc=|564e0b42-4609-43d...|  2006-09-01|\n|        22|    false|  Ms.|      Linda|        E.|   Burnett|    NA|      Travel Systems|adventure-works\\j...|linda4@adventure-...|       121-555-0121|23AwhujCoXYSPiN/B...|    SmyIPjE=|9774aed6-d673-412...|  2005-08-01|\n|        23|    false|  Mr.|      Kerim|        NA|     Hanif|    NA|          Bike World|adventure-works\\shu0|kerim0@adventure-...|       216-555-0122|d0WSjosAd7Y3XOWjN...|    33g5co8=|733f8250-3251-4c2...|  2006-09-01|\n|        24|    false|  Mr.|      Kevin|        NA|       Liu|    NA|Eastside Departme...|adventure-works\\l...|kevin5@adventure-...|       926-555-0164|ylTpkIOHKLcjihNjS...|    TgZnUOg=|c111e51d-178d-4db...|  2006-09-01|\n|        25|    false|  Mr.|     Donald|        L.|   Blanton|    NA|Coalition Bike Co...|adventure-works\\shu0|donald0@adventure...|       357-555-0161|pKYDelLBOZMO98GBz...|    jKtOaOw=|31d03546-fb2a-448...|  2006-09-01|\n|        28|    false|  Ms.|     Jackie|        E.| Blackwell|    NA|Commuter Bicycle ...|adventure-works\\j...|jackie0@adventure...|       972-555-0163|wqhgKfOTfef4Zo3cb...|    SZ+r60o=|9b8a04a4-d909-4f4...|  2007-08-01|\n+----------+---------+-----+-----------+----------+----------+------+--------------------+--------------------+--------------------+-------------------+--------------------+------------+--------------------+------------+\nonly showing top 20 rows\n\n+----------+---------+-----------+--------------------+------------+\n|CustomerID|AddressID|AddressType|             rowguid|ModifiedDate|\n+----------+---------+-----------+--------------------+------------+\n|     29485|     1086|Main Office|16765338-dbe4-442...|  2007-09-01|\n|     29486|      621|Main Office|22b3e910-14af-4ed...|  2005-09-01|\n|     29489|     1069|Main Office|a095c88b-d7e6-417...|  2005-07-01|\n|     29490|      887|Main Office|f12e1702-d897-403...|  2006-09-01|\n|     29492|      618|Main Office|5b3b3eb2-3f43-47e...|  2006-12-01|\n|     29494|      537|Main Office|492d92b6-31af-47e...|  2005-09-01|\n|     29496|     1072|Main Office|0a66b0f3-24bc-414...|  2007-09-01|\n|     29497|      889|Main Office|7e0b56fd-7324-489...|  2005-07-01|\n|     29499|      527|Main Office|c90cb0c3-976a-407...|  2006-09-01|\n|     29502|      893|Main Office|8acb1c6a-7cdf-417...|  2007-07-01|\n|     29503|       32|   Shipping|be00ffc6-194b-44e...|  2006-08-01|\n|     29503|      541|Main Office|6811dbe3-1f02-440...|  2006-08-01|\n|     29505|     1083|Main Office|740a06af-77f1-45c...|  2007-05-01|\n|     29506|     1082|Main Office|dd51a14d-45f5-44e...|  2007-08-01|\n|     29508|      619|Main Office|2dd326f6-02da-44b...|  2005-12-01|\n|     29510|      540|Main Office|af6dcc27-dccb-40d...|  2005-08-01|\n|     29511|     1046|Main Office|61cb8c51-7c96-430...|  2005-08-01|\n|     29515|      504|Main Office|a5f1a232-3cce-414...|  2005-08-01|\n|     29517|      794|Main Office|db4d3044-7bf4-4d6...|  2007-08-01|\n|     29521|     1054|Main Office|c0f708c3-9147-44c...|  2005-08-01|\n+----------+---------+-----------+--------------------+------------+\nonly showing top 20 rows\n\n+---------+--------------------+-------------+-----+------------+---------+----+-------+-----------------+--------------+-------------+-----------+----------------+--------------------+----------------------+--------------------+------------+\n|ProductID|                Name|ProductNumber|Color|StandardCost|ListPrice|Size| Weight|ProductCategoryID|ProductModelID|SellStartDate|SellEndDate|DiscontinuedDate|      ThumbNailPhoto|ThumbnailPhotoFileName|             rowguid|ModifiedDate|\n+---------+--------------------+-------------+-----+------------+---------+----+-------+-----------------+--------------+-------------+-----------+----------------+--------------------+----------------------+--------------------+------------+\n|      680|HL Road Frame - B...|   FR-R92B-58|Black|   1059.3100|1431.5000|  58|1016.04|               18|             6|   2002-06-01| 9999-12-31|      9999-12-31|[47 49 46 38 39 6...|  no_image_availabl...|43dd68d6-14a4-461...|  2008-03-11|\n|      706|HL Road Frame - R...|   FR-R92R-58|  Red|   1059.3100|1431.5000|  58|1016.04|               18|             6|   2002-06-01| 9999-12-31|      9999-12-31|[47 49 46 38 39 6...|  no_image_availabl...|9540ff17-2712-4c9...|  2008-03-11|\n|      707|Sport-100 Helmet,...|    HL-U509-R|  Red|     13.0863|  34.9900|  -1|  -1.00|               35|            33|   2005-07-01| 9999-12-31|      9999-12-31|[47 49 46 38 39 6...|  no_image_availabl...|2e1ef41a-c08a-4ff...|  2008-03-11|\n|      708|Sport-100 Helmet,...|      HL-U509|Black|     13.0863|  34.9900|  -1|  -1.00|               35|            33|   2005-07-01| 9999-12-31|      9999-12-31|[47 49 46 38 39 6...|  no_image_availabl...|a25a44fb-c2de-426...|  2008-03-11|\n|      709|Mountain Bike Soc...|    SO-B909-M|White|      3.3963|   9.5000|   M|  -1.00|               27|            18|   2005-07-01| 2006-06-30|      9999-12-31|[47 49 46 38 39 6...|  no_image_availabl...|18f95f47-1540-4e0...|  2008-03-11|\n|      710|Mountain Bike Soc...|    SO-B909-L|White|      3.3963|   9.5000|   L|  -1.00|               27|            18|   2005-07-01| 2006-06-30|      9999-12-31|[47 49 46 38 39 6...|  no_image_availabl...|161c035e-21b3-4e1...|  2008-03-11|\n|      711|Sport-100 Helmet,...|    HL-U509-B| Blue|     13.0863|  34.9900|  -1|  -1.00|               35|            33|   2005-07-01| 9999-12-31|      9999-12-31|[47 49 46 38 39 6...|  no_image_availabl...|fd7c0858-4179-48c...|  2008-03-11|\n|      712|        AWC Logo Cap|      CA-1098|Multi|      6.9223|   8.9900|  -1|  -1.00|               23|             2|   2005-07-01| 9999-12-31|      9999-12-31|[47 49 46 38 39 6...|  no_image_availabl...|b9ede243-a6f4-462...|  2008-03-11|\n|      713|Long-Sleeve Logo ...|    LJ-0192-S|Multi|     38.4923|  49.9900|   S|  -1.00|               25|            11|   2005-07-01| 9999-12-31|      9999-12-31|[47 49 46 38 39 6...|  awc_jersey_male_s...|fd449c82-a259-4fa...|  2008-03-11|\n|      714|Long-Sleeve Logo ...|    LJ-0192-M|Multi|     38.4923|  49.9900|   M|  -1.00|               25|            11|   2005-07-01| 9999-12-31|      9999-12-31|[47 49 46 38 39 6...|  awc_jersey_male_s...|6a290063-a0cf-432...|  2008-03-11|\n|      715|Long-Sleeve Logo ...|    LJ-0192-L|Multi|     38.4923|  49.9900|   L|  -1.00|               25|            11|   2005-07-01| 9999-12-31|      9999-12-31|[47 49 46 38 39 6...|  awc_jersey_male_s...|34cf5ef5-c077-4ea...|  2008-03-11|\n|      716|Long-Sleeve Logo ...|    LJ-0192-X|Multi|     38.4923|  49.9900|  XL|  -1.00|               25|            11|   2005-07-01| 9999-12-31|      9999-12-31|[47 49 46 38 39 6...|  awc_jersey_male_s...|6ec47ec9-c041-4dd...|  2008-03-11|\n|      717|HL Road Frame - R...|   FR-R92R-62|  Red|    868.6342|1431.5000|  62|1043.26|               18|             6|   2005-07-01| 9999-12-31|      9999-12-31|[47 49 46 38 39 6...|  no_image_availabl...|052e4f8b-0a2a-46b...|  2008-03-11|\n|      718|HL Road Frame - R...|   FR-R92R-44|  Red|    868.6342|1431.5000|  44| 961.61|               18|             6|   2005-07-01| 9999-12-31|      9999-12-31|[47 49 46 38 39 6...|  no_image_availabl...|a88d3b54-2cae-43f...|  2008-03-11|\n|      719|HL Road Frame - R...|   FR-R92R-48|  Red|    868.6342|1431.5000|  48| 979.75|               18|             6|   2005-07-01| 9999-12-31|      9999-12-31|[47 49 46 38 39 6...|  no_image_availabl...|07befc9a-7634-402...|  2008-03-11|\n|      720|HL Road Frame - R...|   FR-R92R-52|  Red|    868.6342|1431.5000|  52| 997.90|               18|             6|   2005-07-01| 9999-12-31|      9999-12-31|[47 49 46 38 39 6...|  no_image_availabl...|fcfea68f-310e-4e6...|  2008-03-11|\n|      721|HL Road Frame - R...|   FR-R92R-56|  Red|    868.6342|1431.5000|  56|1016.04|               18|             6|   2005-07-01| 9999-12-31|      9999-12-31|[47 49 46 38 39 6...|  no_image_availabl...|56c85873-4993-41b...|  2008-03-11|\n|      722|LL Road Frame - B...|   FR-R38B-58|Black|    204.6251| 337.2200|  58|1115.83|               18|             9|   2005-07-01| 9999-12-31|      9999-12-31|[47 49 46 38 39 6...|  no_image_availabl...|2140f256-f705-4d6...|  2008-03-11|\n|      723|LL Road Frame - B...|   FR-R38B-60|Black|    204.6251| 337.2200|  60|1124.90|               18|             9|   2005-07-01| 9999-12-31|      9999-12-31|[47 49 46 38 39 6...|  no_image_availabl...|aa95e2a5-e7c4-4b7...|  2008-03-11|\n|      724|LL Road Frame - B...|   FR-R38B-62|Black|    204.6251| 337.2200|  62|1133.98|               18|             9|   2005-07-01| 9999-12-31|      9999-12-31|[47 49 46 38 39 6...|  no_image_availabl...|5247be33-50bf-452...|  2008-03-11|\n+---------+--------------------+-------------+-----+------------+---------+----+-------+-----------------+--------------+-------------+-----------+----------------+--------------------+----------------------+--------------------+------------+\nonly showing top 20 rows\n\n+-----------------+-----------------------+---------------+--------------------+------------+\n|ProductCategoryID|ParentProductCategoryID|           Name|             rowguid|ModifiedDate|\n+-----------------+-----------------------+---------------+--------------------+------------+\n|                1|                     -1|          Bikes|cfbda25c-df71-47a...|  2002-06-01|\n|                2|                     -1|     Components|c657828d-d808-4ab...|  2002-06-01|\n|                3|                     -1|       Clothing|10a7c342-ca82-48d...|  2002-06-01|\n|                4|                     -1|    Accessories|2be3be36-d9a2-4ee...|  2002-06-01|\n|                5|                      1| Mountain Bikes|2d364ade-264a-433...|  2002-06-01|\n|                6|                      1|     Road Bikes|000310c0-bcc8-42c...|  2002-06-01|\n|                7|                      1|  Touring Bikes|02c5061d-ecdc-427...|  2002-06-01|\n|                8|                      2|     Handlebars|3ef2c725-7135-4c8...|  2002-06-01|\n|                9|                      2|Bottom Brackets|a9e54089-8a1e-4cf...|  2002-06-01|\n|               10|                      2|         Brakes|d43ba4a3-ef0d-426...|  2002-06-01|\n|               11|                      2|         Chains|e93a7231-f16c-4b0...|  2002-06-01|\n|               12|                      2|      Cranksets|4f644521-422b-4f1...|  2002-06-01|\n|               13|                      2|    Derailleurs|1830d70c-aa2a-40c...|  2002-06-01|\n|               14|                      2|          Forks|b5f9ba42-b69b-4fd...|  2002-06-01|\n|               15|                      2|       Headsets|7c782bbe-5a16-495...|  2002-06-01|\n|               16|                      2|Mountain Frames|61b21b65-e16a-4be...|  2002-06-01|\n|               17|                      2|         Pedals|6d24ac07-7a84-484...|  2002-06-01|\n|               18|                      2|    Road Frames|5515f857-075b-4f9...|  2002-06-01|\n|               19|                      2|        Saddles|049fffa3-9d30-46d...|  2002-06-01|\n|               20|                      2| Touring Frames|d2e3f1a8-56c4-4f3...|  2002-06-01|\n+-----------------+-----------------------+---------------+--------------------+------------+\nonly showing top 20 rows\n\n+--------------------+--------------------+--------------------+------------+\n|ProductDescriptionID|         Description|             rowguid|ModifiedDate|\n+--------------------+--------------------+--------------------+------------+\n|                   3|     Chromoly steel.|301eed3a-1a82-485...|  2007-06-01|\n|                   4|Aluminum alloy cu...|dfeba528-da11-465...|  2007-06-01|\n|                   5|Aluminum alloy cu...|f7178da7-1a7e-499...|  2007-06-01|\n|                   8|Suitable for any ...|8e6746e5-ad97-46e...|  2007-06-01|\n|                  64|This bike deliver...|7b1c4e90-85e2-479...|  2007-06-01|\n|                  88|For true trail ad...|4c1ad253-357e-4a9...|  2007-06-01|\n|                 128|Serious back-coun...|130709e6-8512-49b...|  2008-03-11|\n|                 168|Top-of-the-line c...|db979da6-4cc8-417...|  2007-06-01|\n|                 170|Suitable for any ...|ea772412-6369-441...|  2007-06-01|\n|                 209|Entry level adult...|f5ff5ffd-cb7c-4ad...|  2007-06-01|\n|                 249|Value-priced bike...|4291f144-7693-446...|  2007-06-01|\n|                 320|Same technology a...|e130ded9-d0ec-465...|  2007-06-01|\n|                 321|Same technology a...|c7b429da-dc51-47d...|  2007-06-01|\n|                 337|A true multi-spor...|db560f0b-e70b-42a...|  2007-06-01|\n|                 375|Cross-train, race...|747b2185-0320-4fe...|  2007-06-01|\n|                 376|Cross-train, race...|f1d9955b-bc1c-4d3...|  2007-06-01|\n|                 409|Alluminum-alloy f...|3dc76714-7572-454...|  2007-06-01|\n|                 457|This bike is ridd...|3ddb8dea-fc37-4e4...|  2007-06-01|\n|                 513|All-occasion valu...|741eae59-5e59-4db...|  2007-06-01|\n|                 554|The plush custom ...|ddc955b2-843e-49c...|  2007-06-01|\n+--------------------+--------------------+--------------------+------------+\nonly showing top 20 rows\n\n+--------------+--------------------+--------------------+--------------------+------------+\n|ProductModelID|                Name|  CatalogDescription|             rowguid|ModifiedDate|\n+--------------+--------------------+--------------------+--------------------+------------+\n|             1|        Classic Vest|                  NA|29321d47-1e4c-4aa...|  2007-06-01|\n|             2|         Cycling Cap|                  NA|474fb654-3c96-4cb...|  2005-06-01|\n|             3|  Full-Finger Gloves|                  NA|a75483fe-3c47-4aa...|  2006-06-01|\n|             4|  Half-Finger Gloves|                  NA|14b56f2a-d4aa-40a...|  2006-06-01|\n|             5|   HL Mountain Frame|                  NA|fdd5407b-c2db-49d...|  2005-06-01|\n|             6|       HL Road Frame|                  NA|4d332ecc-48b3-4e0...|  2002-05-02|\n|             7|    HL Touring Frame|                  NA|d60ed2a5-c100-4c5...|  2009-05-16|\n|             8|   LL Mountain Frame|                  NA|65bf3f6d-bcf2-4db...|  2006-11-20|\n|             9|       LL Road Frame|                  NA|ddc67a2f-024a-444...|  2005-06-01|\n|            10|    LL Touring Frame|                  NA|66c63844-2a24-473...|  2009-05-16|\n|            11|Long-Sleeve Logo ...|                  NA|20efe3f1-a2f8-4dd...|  2005-06-01|\n|            12|    Men's Bib-Shorts|                  NA|219e2f87-26a9-483...|  2006-06-01|\n|            13| Men's Sports Shorts|                  NA|45fe0d77-6645-473...|  2006-06-01|\n|            14|   ML Mountain Frame|                  NA|0d48c51d-7603-401...|  2006-06-01|\n|            15| ML Mountain Frame-W|                  NA|aa77697c-6d1c-48f...|  2006-06-01|\n|            16|       ML Road Frame|                  NA|3494e8ff-7daf-486...|  2005-06-01|\n|            17|     ML Road Frame-W|                  NA|ca18ecfd-2023-4fa...|  2006-06-01|\n|            18| Mountain Bike Socks|                  NA|36b1a76a-dff3-4a5...|  2005-06-01|\n|            19|        Mountain-100|<?xml-stylesheet ...|fca0665b-b956-489...|  2005-06-01|\n|            20|        Mountain-200|                  NA|3b78edff-2aa9-4ac...|  2006-06-01|\n+--------------+--------------------+--------------------+--------------------+------------+\nonly showing top 20 rows\n\n+--------------+--------------------+-------+--------------------+------------+\n|ProductModelID|ProductDescriptionID|Culture|             rowguid|ModifiedDate|\n+--------------+--------------------+-------+--------------------+------------+\n|             1|                1199| en    |4d00b649-027a-4f9...|  2007-06-01|\n|             1|                1467| ar    |7de7204e-4efc-40f...|  2007-06-01|\n|             1|                1589| fr    |20bffcf4-bfa6-400...|  2007-06-01|\n|             1|                1712| th    |af18bc29-f378-451...|  2007-06-01|\n|             1|                1838| he    |23830ac3-3b16-49d...|  2007-06-01|\n|             1|                1965| zh-cht|14ed10b6-0acf-4d6...|  2007-06-01|\n|             2|                1210| en    |623741c2-74bd-4ce...|  2007-06-01|\n|             2|                1476| ar    |1451eb3e-bb1d-45b...|  2007-06-01|\n|             2|                1598| fr    |6d7b1148-6159-4ec...|  2007-06-01|\n|             2|                1721| th    |6afcd17b-e1ed-4d7...|  2007-06-01|\n|             2|                1847| he    |5e2ac850-c79d-4c3...|  2007-06-01|\n|             2|                1974| zh-cht|8eac26ea-e409-454...|  2007-06-01|\n|             3|                1195| en    |cda535b4-0a39-422...|  2007-06-01|\n|             3|                1464| ar    |9349873b-f371-4ef...|  2007-06-01|\n|             3|                1586| fr    |3e7c5796-70bc-43e...|  2007-06-01|\n|             3|                1709| th    |772c7181-526e-445...|  2007-06-01|\n|             3|                1835| he    |8be4d39f-ec59-4b2...|  2007-06-01|\n|             3|                1961| zh-cht|2cb234a2-92d7-424...|  2007-06-01|\n|             4|                1194| en    |a64fa151-2474-44a...|  2007-06-01|\n|             4|                1463| ar    |0205cb4a-84d8-4c0...|  2007-06-01|\n+--------------+--------------------+-------+--------------------+------------+\nonly showing top 20 rows\n\n+------------+------------------+--------+---------+---------+-----------------+-----------+--------------------+------------+\n|SalesOrderID|SalesOrderDetailID|OrderQty|ProductID|UnitPrice|UnitPriceDiscount|  LineTotal|             rowguid|ModifiedDate|\n+------------+------------------+--------+---------+---------+-----------------+-----------+--------------------+------------+\n|       71774|            110562|       1|      836| 356.8980|           0.0000| 356.898000|e3a1994c-7a68-4ce...|  2008-06-01|\n|       71774|            110563|       1|      822| 356.8980|           0.0000| 356.898000|5c77f557-fdb6-43b...|  2008-06-01|\n|       71776|            110567|       1|      907|  63.9000|           0.0000|  63.900000|6dbfe398-d15d-425...|  2008-06-01|\n|       71780|            110616|       4|      905| 218.4540|           0.0000| 873.816000|377246c9-4483-48e...|  2008-06-01|\n|       71780|            110617|       2|      983| 461.6940|           0.0000| 923.388000|43a54bcd-536d-4a1...|  2008-06-01|\n|       71780|            110618|       6|      988| 112.9980|           0.4000| 406.792800|12706fab-f3a2-48c...|  2008-06-01|\n|       71780|            110619|       2|      748| 818.7000|           0.0000|1637.400000|b12f0d3b-5b4e-4f1...|  2008-06-01|\n|       71780|            110620|       1|      990| 323.9940|           0.0000| 323.994000|f117a449-039d-44b...|  2008-06-01|\n|       71780|            110621|       1|      926| 149.8740|           0.0000| 149.874000|92e5052b-72d0-4c9...|  2008-06-01|\n|       71780|            110622|       1|      743| 809.7600|           0.0000| 809.760000|8bd33bed-c4f6-4d4...|  2008-06-01|\n|       71780|            110623|       4|      782|1376.9940|           0.0000|5507.976000|686999fb-42e6-4d0...|  2008-06-01|\n|       71780|            110624|       2|      918| 158.4300|           0.0000| 316.860000|82940b03-c70b-418...|  2008-06-01|\n|       71780|            110625|       4|      780|1391.9940|           0.0000|5567.976000|644b0cd6-b2c3-4e4...|  2008-06-01|\n|       71780|            110626|       1|      937|  48.5940|           0.0000|  48.594000|7f5feb17-8ef4-423...|  2008-06-01|\n|       71780|            110627|       6|      867|  41.9940|           0.0000| 251.964000|ac78838d-b503-41a...|  2008-06-01|\n|       71780|            110628|       1|      985| 112.9980|           0.4000|  67.798800|2c10a282-a13d-442...|  2008-06-01|\n|       71780|            110629|       2|      989| 323.9940|           0.0000| 647.988000|654fb79e-70df-4b9...|  2008-06-01|\n|       71780|            110630|       3|      991| 323.9940|           0.0000| 971.982000|3d6ca7ab-055e-453...|  2008-06-01|\n|       71780|            110631|       1|      992| 323.9940|           0.0000| 323.994000|560feee1-dd54-4c3...|  2008-06-01|\n|       71780|            110632|       2|      993| 323.9940|           0.0000| 647.988000|19570052-4023-465...|  2008-06-01|\n+------------+------------------+--------+---------+---------+-----------------+-----------+--------------------+------------+\nonly showing top 20 rows\n\n+------------+--------------+----------+----------+----------+------+---------------+----------------+-------------------+--------------+----------+---------------+---------------+-----------------+----------------------+-----------+---------+---------+-----------+-------+--------------------+------------+\n|SalesOrderID|RevisionNumber| OrderDate|   DueDate|  ShipDate|Status|OnlineOrderFlag|SalesOrderNumber|PurchaseOrderNumber| AccountNumber|CustomerID|ShipToAddressID|BillToAddressID|       ShipMethod|CreditCardApprovalCode|   SubTotal|   TaxAmt|  Freight|   TotalDue|Comment|             rowguid|ModifiedDate|\n+------------+--------------+----------+----------+----------+------+---------------+----------------+-------------------+--------------+----------+---------------+---------------+-----------------+----------------------+-----------+---------+---------+-----------+-------+--------------------+------------+\n|       71774|             2|2008-06-01|2008-06-13|2008-06-08|     5|          false|         SO71774|        PO348186287|10-4020-000609|     29847|           1092|           1092|CARGO TRANSPORT 5|                    -1|   880.3484|  70.4279|  22.0087|   972.7850|     NA|89e42cdc-8506-48a...|  2008-06-08|\n|       71776|             2|2008-06-01|2008-06-13|2008-06-08|     5|          false|         SO71776|      PO19952192051|10-4020-000106|     30072|            640|            640|CARGO TRANSPORT 5|                    -1|    78.8100|   6.3048|   1.9703|    87.0851|     NA|8a3448c5-e677-415...|  2008-06-08|\n|       71780|             2|2008-06-01|2008-06-13|2008-06-08|     5|          false|         SO71780|      PO19604173239|10-4020-000340|     30113|            653|            653|CARGO TRANSPORT 5|                    -1| 38418.6895|3073.4952| 960.4672| 42452.6519|     NA|a47665d2-7ac9-4cf...|  2008-06-08|\n|       71782|             2|2008-06-01|2008-06-13|2008-06-08|     5|          false|         SO71782|      PO19372114749|10-4020-000582|     29485|           1086|           1086|CARGO TRANSPORT 5|                    -1| 39785.3304|3182.8264| 994.6333| 43962.7901|     NA|f1be45a5-5c57-4a5...|  2008-06-08|\n|       71783|             2|2008-06-01|2008-06-13|2008-06-08|     5|          false|         SO71783|      PO19343113609|10-4020-000024|     29957|            992|            992|CARGO TRANSPORT 5|                    -1| 83858.4261|6708.6741|2096.4607| 92663.5609|     NA|7db2329e-6446-42a...|  2008-06-08|\n|       71784|             2|2008-06-01|2008-06-13|2008-06-08|     5|          false|         SO71784|      PO19285135919|10-4020-000448|     29736|            659|            659|CARGO TRANSPORT 5|                    -1|108561.8317|8684.9465|2714.0458|119960.8240|     NA|ca31f324-2c32-4f8...|  2008-06-08|\n|       71796|             2|2008-06-01|2008-06-13|2008-06-08|     5|          false|         SO71796|      PO17052159664|10-4020-000420|     29660|           1058|           1058|CARGO TRANSPORT 5|                    -1| 57634.6342|4610.7707|1440.8659| 63686.2708|     NA|917ef5ba-f32d-456...|  2008-06-08|\n|       71797|             2|2008-06-01|2008-06-13|2008-06-08|     5|          false|         SO71797|      PO16501134889|10-4020-000142|     29796|            642|            642|CARGO TRANSPORT 5|                    -1| 78029.6898|6242.3752|1950.7422| 86222.8072|     NA|bb3fee84-c8bf-4dd...|  2008-06-08|\n|       71815|             2|2008-06-01|2008-06-13|2008-06-08|     5|          false|         SO71815|      PO13021155785|10-4020-000276|     30089|           1034|           1034|CARGO TRANSPORT 5|                    -1|  1141.5782|  91.3263|  28.5395|  1261.4440|     NA|2aa5f39b-1096-4a4...|  2008-06-08|\n|       71816|             2|2008-06-01|2008-06-13|2008-06-08|     5|          false|         SO71816|      PO12992180445|10-4020-000295|     30027|           1038|           1038|CARGO TRANSPORT 5|                    -1|  3398.1659| 271.8533|  84.9541|  3754.9733|     NA|e3c189e7-98de-4c4...|  2008-06-08|\n|       71831|             2|2008-06-01|2008-06-13|2008-06-08|     5|          false|         SO71831|      PO10295111084|10-4020-000322|     30019|            652|            652|CARGO TRANSPORT 5|                    -1|  2016.3408| 161.3073|  50.4085|  2228.0566|     NA|625d76fc-c26f-414...|  2008-06-08|\n|       71832|             2|2008-06-01|2008-06-13|2008-06-08|     5|          false|         SO71832|      PO10353140756|10-4020-000088|     29922|            639|            639|CARGO TRANSPORT 5|                    -1| 35775.2113|2862.0169| 894.3803| 39531.6085|     NA|addb8620-432a-456...|  2008-06-08|\n|       71845|             2|2008-06-01|2008-06-13|2008-06-08|     5|          false|         SO71845|       PO2697119362|10-4020-000187|     29938|           1020|           1020|CARGO TRANSPORT 5|                    -1| 41622.0511|3329.7641|1040.5513| 45992.3665|     NA|e68f7ee9-c581-45c...|  2008-06-08|\n|       71846|             2|2008-06-01|2008-06-13|2008-06-08|     5|          false|         SO71846|       PO2378131604|10-4020-000635|     30102|            669|            669|CARGO TRANSPORT 5|                    -1|  2453.7645| 196.3012|  61.3441|  2711.4098|     NA|a86d90ad-d1c0-440...|  2008-06-08|\n|       71856|             2|2008-06-01|2008-06-13|2008-06-08|     5|          false|         SO71856|      PO16530177647|10-4020-000601|     30033|           1090|           1090|CARGO TRANSPORT 5|                    -1|   602.1946|  48.1756|  15.0549|   665.4251|     NA|05fee073-0640-4a3...|  2008-06-08|\n|       71858|             2|2008-06-01|2008-06-13|2008-06-08|     5|          false|         SO71858|      PO16153112278|10-4020-000186|     29653|           1019|           1019|CARGO TRANSPORT 5|                    -1| 13823.7083|1105.8967| 345.5927| 15275.1977|     NA|5ef091e1-a0af-437...|  2008-06-08|\n|       71863|             2|2008-06-01|2008-06-13|2008-06-08|     5|          false|         SO71863|      PO16124166561|10-4020-000649|     29975|           1098|           1098|CARGO TRANSPORT 5|                    -1|  3324.2759| 265.9421|  83.1069|  3673.3249|     NA|3ed03b56-a4bf-487...|  2008-06-08|\n|       71867|             2|2008-06-01|2008-06-13|2008-06-08|     5|          false|         SO71867|      PO13050111529|10-4020-000160|     29644|            643|            643|CARGO TRANSPORT 5|                    -1|  1059.3100|  84.7448|  26.4828|  1170.5376|     NA|29743c1b-d3af-4cf...|  2008-06-08|\n|       71885|             2|2008-06-01|2008-06-13|2008-06-08|     5|          false|         SO71885|       PO6119130779|10-4020-000268|     29612|            649|            649|CARGO TRANSPORT 5|                    -1|   550.3860|  44.0309|  13.7597|   608.1766|     NA|caad090d-56a6-444...|  2008-06-08|\n|       71895|             2|2008-06-01|2008-06-13|2008-06-08|     5|          false|         SO71895|       PO3770176273|10-4020-000151|     29584|           1014|           1014|CARGO TRANSPORT 5|                    -1|   246.7392|  19.7391|   6.1685|   272.6468|     NA|07a17c0a-7f9a-441...|  2008-06-08|\n+------------+--------------+----------+----------+----------+------+---------------+----------------+-------------------+--------------+----------+---------------+---------------+-----------------+----------------------+-----------+---------+---------+-----------+-------+--------------------+------------+\nonly showing top 20 rows\n\n"
     ]
    }
   ],
   "source": [
    "for name in table_name:\n",
    "    path = '/mnt/silver/SalesLT/'+name\n",
    "    df = spark.read.format('delta').load(path)\n",
    "    df.createOrReplaceTempView(name)\n",
    "    df.show()\n",
    "    \"\"\"for old_col_name in df.columns:\n",
    "        #lstrip hide _ in the beggining after the transformation\n",
    "        new_col_name = \"\".join([\"_\" + char if char.isupper() and not old_col_name[i-1].isupper() else char for i, char in enumerate(old_col_name)]).lstrip(\"_\")\n",
    "        print(old_col_name)\n",
    "        print(new_col_name)\n",
    "\n",
    "        df = df.withColumnRenamed(old_col_name, new_col_name)\n",
    "\n",
    "    output_path = '/mnt/gold/SalesLT/'+name+'/'\n",
    "    df.write.format('delta').mode(\"overwrite\").save(output_path)\"\"\""
   ]
  },
  {
   "cell_type": "markdown",
   "metadata": {
    "application/vnd.databricks.v1+cell": {
     "cellMetadata": {},
     "inputWidgets": {},
     "nuid": "1e2d67e4-8193-4e1c-8896-f95b8e138fb1",
     "showTitle": false,
     "title": ""
    }
   },
   "source": [
    "### Creating Dim and Fact Tables"
   ]
  },
  {
   "cell_type": "code",
   "execution_count": 0,
   "metadata": {
    "application/vnd.databricks.v1+cell": {
     "cellMetadata": {
      "byteLimit": 2048000,
      "implicitDf": true,
      "rowLimit": 10000
     },
     "inputWidgets": {},
     "nuid": "f2d760bd-a8a7-4b77-b37b-2551d75b9b98",
     "showTitle": false,
     "title": ""
    }
   },
   "outputs": [],
   "source": [
    "\"\"\"\n",
    "SELECT row_number() OVER(ORDER BY P.ProductId) as ProductId, P.ProductId as ProductCod, P.Name, P.ProductNumber, PC1.Name Category, PC.Name SubCategory, PM.Name Model, P.Color, P.StandardCost, P.ListPrice FROM Product P    \n",
    "    LEFT JOIN ProductCategory PC ON PC.ProductCategoryID = P.ProductCategoryID    \n",
    "    LEFT JOIN ProductCategory PC1 ON PC.ParentProductCategoryID = PC1.ProductCategoryID    \n",
    "    LEFT JOIN ProductModel PM ON PM.ProductModelID = P.ProductModelID\n",
    "\"\"\"\n",
    "dimProduct_df = spark.sql(\"SELECT row_number() OVER(ORDER BY P.ProductId) as ProductId, P.ProductId as ProductCod, P.Name, P.ProductNumber, PC1.Name Category, PC.Name SubCategory, PM.Name Model, P.Color, P.StandardCost, P.ListPrice FROM Product P    LEFT JOIN ProductCategory PC ON PC.ProductCategoryID = P.ProductCategoryID    LEFT JOIN ProductCategory PC1 ON PC.ParentProductCategoryID = PC1.ProductCategoryID    LEFT JOIN ProductModel PM ON PM.ProductModelID = P.ProductModelID\")\n",
    "dimProduct_df.createOrReplaceTempView(\"dimProduct\")\n"
   ]
  },
  {
   "cell_type": "code",
   "execution_count": 0,
   "metadata": {
    "application/vnd.databricks.v1+cell": {
     "cellMetadata": {
      "byteLimit": 2048000,
      "implicitDf": true,
      "rowLimit": 10000
     },
     "inputWidgets": {},
     "nuid": "7fe90075-d900-4ce6-abfd-689afc72e3ab",
     "showTitle": false,
     "title": ""
    }
   },
   "outputs": [],
   "source": [
    "\"\"\"\n",
    "--query to create DimCustomer with their directions\n",
    "SELECT row_number() OVER (ORDER BY C.CustomerID) as CustomerId, C.CustomerID as CustomerCod, concat(C.Title,' ', C.FirstName,' ', C.MiddleName,' ', C.LastName) Fullname, C.CompanyName, C.EmailAddress, C.Phone, CA.AddressType, A.AddressID as AddressCod, A.AddressLine1, A.City, A.StateProvince, A.CountryRegion, A.PostalCode FROM Customer C \n",
    "    LEFT JOIN CustomerAddress CA ON C.CustomerID = CA.CustomerID\n",
    "    LEFT JOIN Address A ON A.AddressID = CA.AddressID\n",
    "\"\"\"\n",
    "dimCustomer_df = spark.sql(\"SELECT row_number() OVER (ORDER BY C.CustomerID) as CustomerId, C.CustomerID as CustomerCod, concat(C.Title,' ', C.FirstName,' ', C.MiddleName,' ', C.LastName) Fullname, C.CompanyName, C.EmailAddress, C.Phone, CA.AddressType, A.AddressID as AddressCod, A.AddressLine1, A.City, A.StateProvince, A.CountryRegion, A.PostalCode FROM Customer C     LEFT JOIN CustomerAddress CA ON C.CustomerID = CA.CustomerID    LEFT JOIN Address A ON A.AddressID = CA.AddressID\")\n",
    "dimCustomer_df.createOrReplaceTempView(\"dimCustomer\")"
   ]
  },
  {
   "cell_type": "code",
   "execution_count": 0,
   "metadata": {
    "application/vnd.databricks.v1+cell": {
     "cellMetadata": {
      "byteLimit": 2048000,
      "implicitDf": true,
      "rowLimit": 10000
     },
     "inputWidgets": {},
     "nuid": "cf9294d6-8da6-4b47-b53e-d964906e3646",
     "showTitle": false,
     "title": ""
    }
   },
   "outputs": [],
   "source": [
    "\"\"\"\n",
    "--query to create Fact Orders\n",
    "SELECT row_number() OVER (ORDER BY SOH.SalesOrderID) SalesOrderId, SOH.SalesOrderID, SOH.OrderDate, SOH.DueDate, SOH.ShipDate, SOH.SalesOrderNumber, C.CustomerId, SOH.ShipMethod, SOH.SubTotal, SOH.TaxAmt, SOH.Freight, SOH.TotalDue, P.ProductID, SOD.OrderQty, SOD.UnitPrice, SOD.UnitPriceDiscount, SOD.LineTotal FROM SalesOrderHeader SOH \n",
    "    INNER JOIN SalesOrderDetail SOD ON SOD.SalesOrderID = SOH.SalesOrderID\n",
    "    INNER JOIN dimProduct P ON P.ProductCod = SOD.ProductID\n",
    "    INNEr JOIN dimCustomer C ON C.CustomerCod = SOH.CustomerID AND C.AddressCod = ShipToAddressID\n",
    "\"\"\"\n",
    "factOrders_df = spark.sql(\"SELECT row_number() OVER (ORDER BY SOH.SalesOrderID) SalesOrderId, SOH.SalesOrderID SalesOrderCod, SOH.OrderDate, SOH.DueDate, SOH.ShipDate, SOH.SalesOrderNumber, C.CustomerId, SOH.ShipMethod, SOH.SubTotal, SOH.TaxAmt, SOH.Freight, SOH.TotalDue, P.ProductID, SOD.OrderQty, SOD.UnitPrice, SOD.UnitPriceDiscount, SOD.LineTotal FROM SalesOrderHeader SOH     INNER JOIN SalesOrderDetail SOD ON SOD.SalesOrderID = SOH.SalesOrderID    INNER JOIN dimProduct P ON P.ProductCod = SOD.ProductID    INNEr JOIN dimCustomer C ON C.CustomerCod = SOH.CustomerID AND C.AddressCod = ShipToAddressID\")\n",
    "factOrders_df.createOrReplaceTempView(\"factOrders\")"
   ]
  },
  {
   "cell_type": "markdown",
   "metadata": {
    "application/vnd.databricks.v1+cell": {
     "cellMetadata": {},
     "inputWidgets": {},
     "nuid": "52be6bd9-bcb7-47d8-9898-15faffaaf824",
     "showTitle": false,
     "title": ""
    }
   },
   "source": [
    "#### Logic for creating dimDate which use Scala logic"
   ]
  },
  {
   "cell_type": "code",
   "execution_count": 0,
   "metadata": {
    "application/vnd.databricks.v1+cell": {
     "cellMetadata": {
      "byteLimit": 2048000,
      "implicitDf": true,
      "rowLimit": 10000
     },
     "inputWidgets": {},
     "nuid": "d6833e25-5a5c-433e-9072-1561b9ac4849",
     "showTitle": false,
     "title": ""
    }
   },
   "outputs": [
    {
     "output_type": "display_data",
     "data": {
      "text/html": [
       "<style scoped>\n",
       "  .ansiout {\n",
       "    display: block;\n",
       "    unicode-bidi: embed;\n",
       "    white-space: pre-wrap;\n",
       "    word-wrap: break-word;\n",
       "    word-break: break-all;\n",
       "    font-family: \"Menlo\", \"Monaco\", \"Consolas\", \"Ubuntu Mono\", \"Source Code Pro\", monospace;\n",
       "    font-size: 13px;\n",
       "    color: #555;\n",
       "    margin-left: 4px;\n",
       "    line-height: 19px;\n",
       "  }\n",
       "</style>\n",
       "<div class=\"ansiout\">defined class dim_date_schema\n",
       "</div>"
      ]
     },
     "metadata": {
      "application/vnd.databricks.v1+output": {
       "addedWidgets": {},
       "arguments": {},
       "data": "<div class=\"ansiout\">defined class dim_date_schema\n</div>",
       "datasetInfos": [],
       "metadata": {
        "isDbfsCommandResult": false
       },
       "removedWidgets": [],
       "type": "html"
      }
     },
     "output_type": "display_data"
    }
   ],
   "source": [
    "\n",
    "%scala\n",
    "//Taken from\n",
    "//https://www.linkedin.com/pulse/how-create-date-dimension-using-databricks-aakash-jain/\n",
    "case class dim_date_schema(\n",
    "                       date_key: Int,\n",
    "                       date: String,\n",
    "                       day: Int,\n",
    "                       day_suffix: String,\n",
    "                       week_day: Int,\n",
    "                       week_day_name: String,\n",
    "                       week_day_name_short: String,\n",
    "                       week_day_name_first_letter: String,\n",
    "                       day_of_year: Int,\n",
    "                       week_of_month: Int,\n",
    "                       week_of_year: Int,\n",
    "                       month: Int,\n",
    "                       month_name: String,\n",
    "                       month_name_short: String,\n",
    "                       month_name_first_letter: String,\n",
    "                       quarter: Int,\n",
    "                       quarter_name: String,\n",
    "                       year: Int,\n",
    "                       yyyymm: String,\n",
    "                       month_year: String,\n",
    "                       is_weekend: Int,\n",
    "                       is_holiday: Int,\n",
    "                       first_date_of_year: String,\n",
    "                       last_date_of_year: String,\n",
    "                       first_date_of_quarter: String,\n",
    "                       last_date_of_quarter: String,\n",
    "                       first_date_of_month: String,\n",
    "                       last_date_of_month: String,\n",
    "                       first_date_of_week: String,\n",
    "                       last_date_of_week: String,\n",
    "                       last_12_month_flag: Int,\n",
    "                       last_6_month_flag: Int,\n",
    "                       last_month_flag: Int\n",
    "                     )"
   ]
  },
  {
   "cell_type": "code",
   "execution_count": 0,
   "metadata": {
    "application/vnd.databricks.v1+cell": {
     "cellMetadata": {
      "byteLimit": 2048000,
      "rowLimit": 10000
     },
     "inputWidgets": {},
     "nuid": "226b7794-77dc-4bfc-999d-aa27ca9b291a",
     "showTitle": false,
     "title": ""
    }
   },
   "outputs": [
    {
     "output_type": "display_data",
     "data": {
      "text/html": [
       "<style scoped>\n",
       "  .ansiout {\n",
       "    display: block;\n",
       "    unicode-bidi: embed;\n",
       "    white-space: pre-wrap;\n",
       "    word-wrap: break-word;\n",
       "    word-break: break-all;\n",
       "    font-family: \"Menlo\", \"Monaco\", \"Consolas\", \"Ubuntu Mono\", \"Source Code Pro\", monospace;\n",
       "    font-size: 13px;\n",
       "    color: #555;\n",
       "    margin-left: 4px;\n",
       "    line-height: 19px;\n",
       "  }\n",
       "</style>\n",
       "<div class=\"ansiout\">import java.time.LocalDate\n",
       "import java.time.format.DateTimeFormatter\n",
       "import scala.collection.mutable.ListBuffer\n",
       "defined object date_time_utils\n",
       "</div>"
      ]
     },
     "metadata": {
      "application/vnd.databricks.v1+output": {
       "addedWidgets": {},
       "arguments": {},
       "data": "<div class=\"ansiout\">import java.time.LocalDate\nimport java.time.format.DateTimeFormatter\nimport scala.collection.mutable.ListBuffer\ndefined object date_time_utils\n</div>",
       "datasetInfos": [],
       "metadata": {
        "isDbfsCommandResult": false
       },
       "removedWidgets": [],
       "type": "html"
      }
     },
     "output_type": "display_data"
    }
   ],
   "source": [
    "%scala\n",
    "import java.time.LocalDate\n",
    "import java.time.format.DateTimeFormatter\n",
    "import scala.collection.mutable.ListBuffer\n",
    " \n",
    "object date_time_utils {\n",
    "  val default_format = \"yyyy-MM-dd\"\n",
    " \n",
    "  def check(start_date: String, end_date: String): Boolean = {\n",
    "    val start = LocalDate.parse(start_date, DateTimeFormatter.ofPattern(default_format))\n",
    "    val end = LocalDate.parse(end_date, DateTimeFormatter.ofPattern(default_format))\n",
    "    end.isAfter(start)\n",
    "  }\n",
    " \n",
    " \n",
    "  def convert_string_to_date(current_date: String, input_format: String, output_format: String) = {\n",
    "    val input_formatter = DateTimeFormatter.ofPattern(input_format)\n",
    "    val output_formatter = DateTimeFormatter.ofPattern(output_format)\n",
    "    output_formatter.format(input_formatter.parse(current_date))\n",
    "  }\n",
    " \n",
    "  def get_day_suffix(current_date: String) = {\n",
    "    val day = convert_string_to_date(current_date, default_format, \"d\").toInt\n",
    "    day match {\n",
    "      case 1 => \"st\"\n",
    "      case 21 => \"st\"\n",
    "      case 31 => \"st\"\n",
    "      case 2 => \"nd\"\n",
    "      case 22 => \"nd\"\n",
    "      case 3 => \"rd\"\n",
    "      case 23 => \"rd\"\n",
    "      case _ => \"th\"\n",
    "    }\n",
    "  }\n",
    " \n",
    "  def get_quater_name(current_date: String) = {\n",
    "    val quater = convert_string_to_date(current_date, default_format, \"Q\").toInt\n",
    "    quater match {\n",
    "      case 1 => \"Q1\"\n",
    "      case 2 => \"Q2\"\n",
    "      case 3 => \"Q3\"\n",
    "      case 4 => \"Q4\"\n",
    "    }\n",
    "  }\n",
    " \n",
    "  def is_weekend(current_date: String) = {\n",
    "    val week_day_name = convert_string_to_date(current_date, default_format, \"EEEE\")\n",
    "    week_day_name match {\n",
    "      case \"Saturday\" => 1\n",
    "      case \"Sunday\" => 1\n",
    "      case _ => 0\n",
    "    }\n",
    "  }\n",
    " \n",
    "  def get_date_of_year(current_date: String, position: String) = {\n",
    "    val year = convert_string_to_date(current_date, default_format, \"u\")\n",
    "    position match {\n",
    "      case \"first\" => year + \"-01-01\"\n",
    "      case \"last\" => year + \"-12-31\"\n",
    "    }\n",
    "  }\n",
    " \n",
    "  def get_first_date_of_quarter(current_date: String) = {\n",
    "    val quater = convert_string_to_date(current_date, default_format, \"QQ\")\n",
    "    val year = convert_string_to_date(current_date, default_format, \"u\")\n",
    "    quater match {\n",
    "      case \"01\" => year + \"-01-01\"\n",
    "      case \"02\" => year + \"-04-01\"\n",
    "      case \"03\" => year + \"-07-01\"\n",
    "      case \"04\" => year + \"-10-01\"\n",
    "    }\n",
    "  }\n",
    " \n",
    "  def get_last_date_of_quarter(current_date: String) = {\n",
    "    val quater = convert_string_to_date(current_date, default_format, \"QQ\")\n",
    "    val year = convert_string_to_date(current_date, default_format, \"u\")\n",
    "    quater match {\n",
    "      case \"01\" => year + \"-03-31\"\n",
    "      case \"02\" => year + \"-06-30\"\n",
    "      case \"03\" => year + \"-09-30\"\n",
    "      case \"04\" => year + \"-12-31\"\n",
    "    }\n",
    "  }\n",
    " \n",
    "  def get_first_date_of_month(current_date: String) = {\n",
    "    val month = convert_string_to_date(current_date, default_format, \"MM\")\n",
    "    val year = convert_string_to_date(current_date, default_format, \"u\")\n",
    "    year + \"-\" + month + \"-01\"\n",
    "  }\n",
    " \n",
    "  def get_last_date_of_month(current_date: String) = {\n",
    "    val converted_date = LocalDate.parse(current_date, DateTimeFormatter.ofPattern(default_format))\n",
    "    val last_day_of_month = converted_date.withDayOfMonth(converted_date.getMonth.length(converted_date.isLeapYear))\n",
    "    last_day_of_month.toString\n",
    "  }\n",
    " \n",
    "  def get_first_date_of_week(current_date: String) = {\n",
    "    val converted_date = LocalDate.parse(current_date, DateTimeFormatter.ofPattern(default_format))\n",
    "    val day_backward = convert_string_to_date(current_date, default_format, \"e\").toInt - 1\n",
    "    converted_date.minusDays(day_backward).toString\n",
    "  }\n",
    " \n",
    "  def get_last_date_of_week(current_date: String) = {\n",
    "    val converted_date = LocalDate.parse(current_date, DateTimeFormatter.ofPattern(default_format))\n",
    "    val day_forward = 7 - convert_string_to_date(current_date, default_format, \"e\").toInt\n",
    "    converted_date.plusDays(day_forward).toString\n",
    "  }\n",
    "  \n",
    "  def get_last_12_month_list() = {\n",
    "    var last_12_month_list = ListBuffer[String]()\n",
    "    var i = 0\n",
    "    for( i <- 1 to 12){\n",
    "      last_12_month_list += DateTimeFormatter.ofPattern(\"yyyyMM\").format(LocalDate.now.minusMonths(i))\n",
    "    }\n",
    "    last_12_month_list\n",
    "  }\n",
    "  \n",
    "  \n",
    "  def get_last_12_month_flag(yyyyMM: String) = {\n",
    "    if (get_last_12_month_list().contains(yyyyMM)) 1 else 0\n",
    "  }\n",
    "  \n",
    "  def get_last_6_month_flag(yyyyMM: String) = {    \n",
    "    if (get_last_12_month_list().slice(0,6).contains(yyyyMM)) 1 else 0\n",
    "  }\n",
    "  \n",
    "  def get_last_month_flag(yyyyMM: String) = {\n",
    "    if (get_last_12_month_list()(0).equals(yyyyMM)) 1 else 0\n",
    "  }\n",
    "  \n",
    "  def get_calendar_end_date(plus_month:Int) = {\n",
    "    get_last_date_of_month(DateTimeFormatter.ofPattern(\"yyyy-MM-dd\").format(LocalDate.now.plusMonths(plus_month)))\n",
    "  }\n",
    "}"
   ]
  },
  {
   "cell_type": "code",
   "execution_count": 0,
   "metadata": {
    "application/vnd.databricks.v1+cell": {
     "cellMetadata": {
      "byteLimit": 2048000,
      "rowLimit": 10000
     },
     "inputWidgets": {},
     "nuid": "8bb25b38-4785-41f3-87d4-4747acf4fb83",
     "showTitle": false,
     "title": ""
    }
   },
   "outputs": [
    {
     "output_type": "display_data",
     "data": {
      "text/html": [
       "<style scoped>\n",
       "  .ansiout {\n",
       "    display: block;\n",
       "    unicode-bidi: embed;\n",
       "    white-space: pre-wrap;\n",
       "    word-wrap: break-word;\n",
       "    word-break: break-all;\n",
       "    font-family: \"Menlo\", \"Monaco\", \"Consolas\", \"Ubuntu Mono\", \"Source Code Pro\", monospace;\n",
       "    font-size: 13px;\n",
       "    color: #555;\n",
       "    margin-left: 4px;\n",
       "    line-height: 19px;\n",
       "  }\n",
       "</style>\n",
       "<div class=\"ansiout\">dim_date_generator: (current_date: String)dim_date_schema\n",
       "</div>"
      ]
     },
     "metadata": {
      "application/vnd.databricks.v1+output": {
       "addedWidgets": {},
       "arguments": {},
       "data": "<div class=\"ansiout\">dim_date_generator: (current_date: String)dim_date_schema\n</div>",
       "datasetInfos": [],
       "metadata": {
        "isDbfsCommandResult": false
       },
       "removedWidgets": [],
       "type": "html"
      }
     },
     "output_type": "display_data"
    }
   ],
   "source": [
    "%scala\n",
    "def dim_date_generator(current_date: String): dim_date_schema ={\n",
    "  val default_format = \"yyyy-MM-dd\"\n",
    "  val date_key = date_time_utils.convert_string_to_date(current_date, default_format, \"yyyyMMdd\").toInt\n",
    "  val date = current_date\n",
    "  val day = date_time_utils.convert_string_to_date(current_date, default_format, \"d\").toInt\n",
    "  val day_suffix = date_time_utils.get_day_suffix(current_date)\n",
    "  val week_day = date_time_utils.convert_string_to_date(current_date, default_format, \"e\").toInt\n",
    "  val week_day_name = date_time_utils.convert_string_to_date(current_date, default_format, \"EEEE\")\n",
    "  val week_day_name_short = date_time_utils.convert_string_to_date(current_date, default_format, \"E\").toUpperCase\n",
    "  val week_day_name_first_letter = date_time_utils.convert_string_to_date(current_date, default_format, \"E\").substring(0, 1)\n",
    "  val day_of_year = date_time_utils.convert_string_to_date(current_date, default_format, \"D\").toInt\n",
    "  val week_of_month = date_time_utils.convert_string_to_date(current_date, default_format, \"W\").toInt\n",
    "  val week_of_year = date_time_utils.convert_string_to_date(current_date, default_format, \"w\").toInt\n",
    "  val month = date_time_utils.convert_string_to_date(current_date, default_format, \"M\").toInt\n",
    "  val month_name = date_time_utils.convert_string_to_date(current_date, default_format, \"MMMM\")\n",
    "  val month_name_short = date_time_utils.convert_string_to_date(current_date, default_format, \"MMM\").toUpperCase\n",
    "  val month_name_first_letter = date_time_utils.convert_string_to_date(current_date, default_format, \"MMM\").substring(0, 1)\n",
    "  val quarter = date_time_utils.convert_string_to_date(current_date, default_format, \"Q\").toInt\n",
    "  val quarter_name = date_time_utils.get_quater_name(current_date)\n",
    "  val year = date_time_utils.convert_string_to_date(current_date, default_format, \"u\").toInt\n",
    "  val yyyyMM = date_time_utils.convert_string_to_date(current_date, default_format, \"yyyyMM\")\n",
    "  val month_year = date_time_utils.convert_string_to_date(current_date, default_format, \"yyyy MMM\").toUpperCase\n",
    "  val is_weekend = date_time_utils.is_weekend(current_date)\n",
    "  val is_holiday = 0\n",
    "  val first_date_of_year = date_time_utils.get_date_of_year(current_date, \"first\")\n",
    "  val last_date_of_year = date_time_utils.get_date_of_year(current_date, \"last\")\n",
    "  val first_date_of_quarter = date_time_utils.get_first_date_of_quarter(current_date)\n",
    "  val last_date_of_quarter = date_time_utils.get_last_date_of_quarter(current_date)\n",
    "  val first_date_of_month = date_time_utils.get_first_date_of_month(current_date)\n",
    "  val last_date_of_month = date_time_utils.get_last_date_of_month(current_date)\n",
    "  val first_date_of_week = date_time_utils.get_first_date_of_week(current_date)\n",
    "  val last_date_of_week = date_time_utils.get_last_date_of_week(current_date)\n",
    "  val last_12_month_flag = date_time_utils.get_last_12_month_flag(yyyyMM)\n",
    "  val last_6_month_flag = date_time_utils.get_last_6_month_flag(yyyyMM)\n",
    "  val last_month_flag = date_time_utils.get_last_month_flag(yyyyMM)\n",
    "  dim_date_schema(date_key, date, day, day_suffix, week_day, week_day_name, week_day_name_short, week_day_name_first_letter,\n",
    "    day_of_year, week_of_month, week_of_year, month, month_name, month_name_short, month_name_first_letter, quarter,\n",
    "    quarter_name, year, yyyyMM, month_year, is_weekend, is_holiday, first_date_of_year, last_date_of_year, first_date_of_quarter,\n",
    "    last_date_of_quarter, first_date_of_month, last_date_of_month, first_date_of_week, last_date_of_week, last_12_month_flag, last_6_month_flag, last_month_flag)\n",
    "}"
   ]
  },
  {
   "cell_type": "code",
   "execution_count": 0,
   "metadata": {
    "application/vnd.databricks.v1+cell": {
     "cellMetadata": {
      "byteLimit": 2048000,
      "rowLimit": 10000
     },
     "inputWidgets": {},
     "nuid": "2f73f4e9-8bd9-4b75-ba65-eb95bae1f088",
     "showTitle": false,
     "title": ""
    }
   },
   "outputs": [
    {
     "output_type": "display_data",
     "data": {
      "text/html": [
       "<style scoped>\n",
       "  .ansiout {\n",
       "    display: block;\n",
       "    unicode-bidi: embed;\n",
       "    white-space: pre-wrap;\n",
       "    word-wrap: break-word;\n",
       "    word-break: break-all;\n",
       "    font-family: \"Menlo\", \"Monaco\", \"Consolas\", \"Ubuntu Mono\", \"Source Code Pro\", monospace;\n",
       "    font-size: 13px;\n",
       "    color: #555;\n",
       "    margin-left: 4px;\n",
       "    line-height: 19px;\n",
       "  }\n",
       "</style>\n",
       "<div class=\"ansiout\">import org.apache.spark.sql.functions._\n",
       "import org.apache.spark.sql.DataFrame\n",
       "import java.text.SimpleDateFormat\n",
       "import java.util.Date\n",
       "create_final_df: ()org.apache.spark.sql.DataFrame\n",
       "</div>"
      ]
     },
     "metadata": {
      "application/vnd.databricks.v1+output": {
       "addedWidgets": {},
       "arguments": {},
       "data": "<div class=\"ansiout\">import org.apache.spark.sql.functions._\nimport org.apache.spark.sql.DataFrame\nimport java.text.SimpleDateFormat\nimport java.util.Date\ncreate_final_df: ()org.apache.spark.sql.DataFrame\n</div>",
       "datasetInfos": [],
       "metadata": {
        "isDbfsCommandResult": false
       },
       "removedWidgets": [],
       "type": "html"
      }
     },
     "output_type": "display_data"
    }
   ],
   "source": [
    "%scala\n",
    "import org.apache.spark.sql.functions._\n",
    "import org.apache.spark.sql.DataFrame\n",
    "import java.text.SimpleDateFormat\n",
    "import java.util.Date\n",
    "\n",
    "def create_final_df(): DataFrame = {\n",
    "\n",
    "  val factOrders_df = spark.sql(s\"SELECT * FROM factOrders\")\n",
    "  //val minVal = factOrders_df.agg(min(\"OrderDate\")).collect()(0)(0)\n",
    "  //val maxVal = factOrders_df.agg(max(\"DueDate\")).collect()(0)(0)\n",
    "  //print(minVal, maxVal)\n",
    "\n",
    "  val dateFormat = new SimpleDateFormat(\"yyyy-MM-dd\")\n",
    " \n",
    "  //Start Date\n",
    "  val start_date_init = factOrders_df.agg(min(\"OrderDate\")).collect()(0)(0)\n",
    "  var start_date: String = start_date_init.asInstanceOf[String]\n",
    "  //val start_date: Date = dateFormat.parse(dateStringStartDate)\n",
    " \n",
    "  //End Date\n",
    "  val end_date_init = factOrders_df.agg(max(\"DueDate\")).collect()(0)(0)\n",
    "  var end_date: String = end_date_init.asInstanceOf[String]\n",
    "  end_date = LocalDate.parse(end_date, DateTimeFormatter.ofPattern(\"yyyy-MM-dd\")).plusDays(1).toString\n",
    "  //val end_date: Date = dateFormat.parse(dateStringEndDate)\n",
    " \n",
    "  //Mutable list to store dim date\n",
    "  var dim_date_mutable_list = new ListBuffer[dim_date_schema]()\n",
    " \n",
    "  while (date_time_utils.check(start_date, end_date)) {\n",
    "    val dim_date_schema_object = dim_date_generator(start_date)\n",
    "    dim_date_mutable_list += dim_date_schema_object\n",
    "    start_date = LocalDate.parse(start_date, DateTimeFormatter.ofPattern(\"yyyy-MM-dd\")).plusDays(1).toString\n",
    "  }\n",
    " \n",
    "  val dim_date_list = dim_date_mutable_list.toList\n",
    "  val dim_date_df = spark.createDataset(dim_date_list)\n",
    "  dim_date_df.select(col(\"date_key\")\n",
    "    , col(\"date\").cast(\"date\")\n",
    "    , col(\"day\")\n",
    "    , col(\"day_suffix\")\n",
    "    , col(\"week_day\")\n",
    "    , col(\"week_day_name\")\n",
    "    , col(\"week_day_name_short\")\n",
    "    , col(\"week_day_name_first_letter\")\n",
    "    , col(\"day_of_year\")\n",
    "    , col(\"week_of_month\")\n",
    "    , col(\"week_of_year\")\n",
    "    , col(\"month\")\n",
    "    , col(\"month_name\")\n",
    "    , col(\"month_name_short\")\n",
    "    , col(\"month_name_first_letter\")\n",
    "    , col(\"quarter\")\n",
    "    , col(\"quarter_name\")\n",
    "    , col(\"year\")\n",
    "    , col(\"yyyymm\")\n",
    "    , col(\"month_year\")\n",
    "    , col(\"is_weekend\")\n",
    "    , col(\"is_holiday\")\n",
    "    , col(\"first_date_of_year\").cast(\"date\")\n",
    "    , col(\"last_date_of_year\").cast(\"date\")\n",
    "    , col(\"first_date_of_quarter\").cast(\"date\")\n",
    "    , col(\"last_date_of_quarter\").cast(\"date\")\n",
    "    , col(\"first_date_of_month\").cast(\"date\")\n",
    "    , col(\"last_date_of_month\").cast(\"date\")\n",
    "    , col(\"first_date_of_week\").cast(\"date\")\n",
    "    , col(\"last_date_of_week\").cast(\"date\")\n",
    "    , col(\"last_12_month_flag\")\n",
    "    , col(\"last_6_month_flag\")\n",
    "    , col(\"last_month_flag\")\n",
    "    , current_timestamp().as(\"load_date\"))\n",
    "}"
   ]
  },
  {
   "cell_type": "markdown",
   "metadata": {
    "application/vnd.databricks.v1+cell": {
     "cellMetadata": {},
     "inputWidgets": {},
     "nuid": "d5179063-d34a-4394-959e-9c4e84e7da14",
     "showTitle": false,
     "title": ""
    }
   },
   "source": [
    "### Saving tables into storage"
   ]
  },
  {
   "cell_type": "code",
   "execution_count": 0,
   "metadata": {
    "application/vnd.databricks.v1+cell": {
     "cellMetadata": {
      "byteLimit": 2048000,
      "rowLimit": 10000
     },
     "inputWidgets": {},
     "nuid": "d64dc3b5-2bef-450c-93cf-bfa10cf88a42",
     "showTitle": false,
     "title": ""
    }
   },
   "outputs": [
    {
     "output_type": "display_data",
     "data": {
      "text/html": [
       "<style scoped>\n",
       "  .ansiout {\n",
       "    display: block;\n",
       "    unicode-bidi: embed;\n",
       "    white-space: pre-wrap;\n",
       "    word-wrap: break-word;\n",
       "    word-break: break-all;\n",
       "    font-family: \"Menlo\", \"Monaco\", \"Consolas\", \"Ubuntu Mono\", \"Source Code Pro\", monospace;\n",
       "    font-size: 13px;\n",
       "    color: #555;\n",
       "    margin-left: 4px;\n",
       "    line-height: 19px;\n",
       "  }\n",
       "</style>\n",
       "<div class=\"ansiout\">import org.apache.spark.sql.SaveMode\n",
       "output_path: String = /mnt/gold/SalesLT/dimDate/\n",
       "df_date: org.apache.spark.sql.DataFrame = [date_key: int, date: date ... 32 more fields]\n",
       "</div>"
      ]
     },
     "metadata": {
      "application/vnd.databricks.v1+output": {
       "addedWidgets": {},
       "arguments": {},
       "data": "<div class=\"ansiout\">import org.apache.spark.sql.SaveMode\noutput_path: String = /mnt/gold/SalesLT/dimDate/\ndf_date: org.apache.spark.sql.DataFrame = [date_key: int, date: date ... 32 more fields]\n</div>",
       "datasetInfos": [
        {
         "name": "df_date",
         "schema": {
          "fields": [
           {
            "metadata": {},
            "name": "date_key",
            "nullable": false,
            "type": "integer"
           },
           {
            "metadata": {},
            "name": "date",
            "nullable": true,
            "type": "date"
           },
           {
            "metadata": {},
            "name": "day",
            "nullable": false,
            "type": "integer"
           },
           {
            "metadata": {},
            "name": "day_suffix",
            "nullable": true,
            "type": "string"
           },
           {
            "metadata": {},
            "name": "week_day",
            "nullable": false,
            "type": "integer"
           },
           {
            "metadata": {},
            "name": "week_day_name",
            "nullable": true,
            "type": "string"
           },
           {
            "metadata": {},
            "name": "week_day_name_short",
            "nullable": true,
            "type": "string"
           },
           {
            "metadata": {},
            "name": "week_day_name_first_letter",
            "nullable": true,
            "type": "string"
           },
           {
            "metadata": {},
            "name": "day_of_year",
            "nullable": false,
            "type": "integer"
           },
           {
            "metadata": {},
            "name": "week_of_month",
            "nullable": false,
            "type": "integer"
           },
           {
            "metadata": {},
            "name": "week_of_year",
            "nullable": false,
            "type": "integer"
           },
           {
            "metadata": {},
            "name": "month",
            "nullable": false,
            "type": "integer"
           },
           {
            "metadata": {},
            "name": "month_name",
            "nullable": true,
            "type": "string"
           },
           {
            "metadata": {},
            "name": "month_name_short",
            "nullable": true,
            "type": "string"
           },
           {
            "metadata": {},
            "name": "month_name_first_letter",
            "nullable": true,
            "type": "string"
           },
           {
            "metadata": {},
            "name": "quarter",
            "nullable": false,
            "type": "integer"
           },
           {
            "metadata": {},
            "name": "quarter_name",
            "nullable": true,
            "type": "string"
           },
           {
            "metadata": {},
            "name": "year",
            "nullable": false,
            "type": "integer"
           },
           {
            "metadata": {},
            "name": "yyyymm",
            "nullable": true,
            "type": "string"
           },
           {
            "metadata": {},
            "name": "month_year",
            "nullable": true,
            "type": "string"
           },
           {
            "metadata": {},
            "name": "is_weekend",
            "nullable": false,
            "type": "integer"
           },
           {
            "metadata": {},
            "name": "is_holiday",
            "nullable": false,
            "type": "integer"
           },
           {
            "metadata": {},
            "name": "first_date_of_year",
            "nullable": true,
            "type": "date"
           },
           {
            "metadata": {},
            "name": "last_date_of_year",
            "nullable": true,
            "type": "date"
           },
           {
            "metadata": {},
            "name": "first_date_of_quarter",
            "nullable": true,
            "type": "date"
           },
           {
            "metadata": {},
            "name": "last_date_of_quarter",
            "nullable": true,
            "type": "date"
           },
           {
            "metadata": {},
            "name": "first_date_of_month",
            "nullable": true,
            "type": "date"
           },
           {
            "metadata": {},
            "name": "last_date_of_month",
            "nullable": true,
            "type": "date"
           },
           {
            "metadata": {},
            "name": "first_date_of_week",
            "nullable": true,
            "type": "date"
           },
           {
            "metadata": {},
            "name": "last_date_of_week",
            "nullable": true,
            "type": "date"
           },
           {
            "metadata": {},
            "name": "last_12_month_flag",
            "nullable": false,
            "type": "integer"
           },
           {
            "metadata": {},
            "name": "last_6_month_flag",
            "nullable": false,
            "type": "integer"
           },
           {
            "metadata": {},
            "name": "last_month_flag",
            "nullable": false,
            "type": "integer"
           },
           {
            "metadata": {},
            "name": "load_date",
            "nullable": false,
            "type": "timestamp"
           }
          ],
          "type": "struct"
         },
         "tableIdentifier": null,
         "typeStr": "org.apache.spark.sql.DataFrame"
        }
       ],
       "metadata": {
        "isDbfsCommandResult": false
       },
       "removedWidgets": [],
       "type": "html"
      }
     },
     "output_type": "display_data"
    }
   ],
   "source": [
    "%scala\n",
    "import org.apache.spark.sql.SaveMode\n",
    "//df.write.format('delta').mode(\"overwrite\").save(output_path)\n",
    "val output_path = \"/mnt/gold/SalesLT/dimDate/\"\n",
    "val df_date = create_final_df()\n",
    "//Save the DataFrame as a Delta table\n",
    "df_date.write.format(\"delta\").mode(SaveMode.Overwrite).save(output_path)\n"
   ]
  },
  {
   "cell_type": "code",
   "execution_count": 0,
   "metadata": {
    "application/vnd.databricks.v1+cell": {
     "cellMetadata": {
      "byteLimit": 2048000,
      "rowLimit": 10000
     },
     "inputWidgets": {},
     "nuid": "17fc39e8-baa4-49e2-b42d-5b06653db99b",
     "showTitle": false,
     "title": ""
    }
   },
   "outputs": [],
   "source": [
    "dimCustomer_df.write.format('delta').mode(\"overwrite\").save(\"/mnt/gold/SalesLT/dimCustomer/\")\n",
    "dimProduct_df.write.format('delta').mode(\"overwrite\").save(\"/mnt/gold/SalesLT/dimProduct/\")\n",
    "factOrders_df.write.format('delta').mode(\"overwrite\").save(\"/mnt/gold/SalesLT/factOrders/\")"
   ]
  },
  {
   "cell_type": "code",
   "execution_count": 0,
   "metadata": {
    "application/vnd.databricks.v1+cell": {
     "cellMetadata": {},
     "inputWidgets": {},
     "nuid": "47fba83e-52ab-4192-a729-8a206201230d",
     "showTitle": false,
     "title": ""
    }
   },
   "outputs": [],
   "source": []
  }
 ],
 "metadata": {
  "application/vnd.databricks.v1+notebook": {
   "dashboards": [],
   "language": "python",
   "notebookMetadata": {
    "mostRecentlyExecutedCommandWithImplicitDF": {
     "commandId": -1,
     "dataframes": [
      "_sqldf"
     ]
    },
    "pythonIndentUnit": 4
   },
   "notebookName": "silver to gold",
   "widgets": {}
  }
 },
 "nbformat": 4,
 "nbformat_minor": 0
}
